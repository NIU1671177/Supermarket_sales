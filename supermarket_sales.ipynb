{
 "cells": [
  {
   "cell_type": "markdown",
   "metadata": {},
   "source": [
    "> Aprenentatge Computacional\n",
    "\n",
    "**Nom**: Gabriel Rios Sanchez\\\n",
    "**NIU**: 1671177\n",
    "\n",
    "# SUPERMARKET SALES"
   ]
  },
  {
   "cell_type": "markdown",
   "metadata": {},
   "source": [
    "---"
   ]
  },
  {
   "cell_type": "code",
   "execution_count": 6,
   "metadata": {},
   "outputs": [],
   "source": [
    "# LLIBRERIA PER MANIPULACIÓ DE DADES\n",
    "import pandas as pd\n",
    "\n",
    "# LLIBRERIA PER TREBALLAR AMB MATRIUS MULTIDIMENSIONALS\n",
    "import numpy as np\n",
    "\n",
    "# LLIBRERIA PER DETECTAR VALORS NULS\n",
    "import missingno as msno\n",
    "\n",
    "# LLIBRERIA PER VISUALITZAR DADES\n",
    "import seaborn as sns\n",
    "import matplotlib.pylab as plt\n",
    "\n",
    "# LLIBRERIA PER EINES DE PREPROCESSING\n",
    "from sklearn.preprocessing import MinMaxScaler\n",
    "\n",
    "# LLIBRERIA PER IMPORTAR DIFERENTS MODELS\n",
    "from sklearn.linear_model import LogisticRegression\n",
    "from sklearn.svm import SVC\n",
    "from sklearn.neighbors import KNeighborsClassifier\n",
    "from sklearn.tree import DecisionTreeClassifier\n",
    "from sklearn.ensemble import RandomForestClassifier, AdaBoostClassifier\n",
    "\n",
    "# LLIBRERIA PER ANALITZAR DIFERENTS MODELS\n",
    "from sklearn.metrics import roc_curve, auc, precision_recall_curve, average_precision_score, roc_auc_score\n",
    "from sklearn.metrics import accuracy_score,  precision_score, recall_score\n",
    "\n",
    "# LLIBRERIA PER DIVIDIR EL CONJUNT D'ENTRENAMENT I PROVA\n",
    "from sklearn.model_selection import train_test_split\n",
    "\n",
    "# LLIBRERIA PER FER VALIDACIÓ DE DIFERENTS MODELS\n",
    "from sklearn.model_selection import StratifiedKFold, cross_val_score, learning_curve, GridSearchCV, cross_val_predict\n",
    "\n",
    "# LLIBRERIES PER TRANSFORMAR VARIABLES CATEGÒRIQUES A FORMATS NUMÈRICS\n",
    "from category_encoders.one_hot import OneHotEncoder\n",
    "\n",
    "# LLIBRERIA PER CREAR CÒPIES D'OBJECTES\n",
    "import copy as cp"
   ]
  },
  {
   "cell_type": "code",
   "execution_count": 9,
   "metadata": {},
   "outputs": [],
   "source": [
    "dataset = pd.read_csv(\"dataset/data.csv\")\n",
    "X = dataset.drop('Branch', axis=1)\n",
    "y = dataset['Branch']\n",
    "X_train, X_test, y_train, y_test = train_test_split(X, y, test_size=0.2, random_state=42)"
   ]
  },
  {
   "cell_type": "markdown",
   "metadata": {},
   "source": [
    "## 0. ENUNCIAT INICIAL"
   ]
  },
  {
   "cell_type": "markdown",
   "metadata": {},
   "source": []
  },
  {
   "cell_type": "markdown",
   "metadata": {},
   "source": [
    "---"
   ]
  },
  {
   "cell_type": "markdown",
   "metadata": {},
   "source": [
    "## 1. ANÀLISI DE DADES"
   ]
  },
  {
   "cell_type": "markdown",
   "metadata": {},
   "source": [
    "---"
   ]
  },
  {
   "cell_type": "markdown",
   "metadata": {},
   "source": [
    "## 2. PREPROCESSAT"
   ]
  },
  {
   "cell_type": "markdown",
   "metadata": {},
   "source": [
    "---"
   ]
  },
  {
   "cell_type": "markdown",
   "metadata": {},
   "source": [
    "## 3. SELECCIÓ DE MODELS"
   ]
  },
  {
   "cell_type": "markdown",
   "metadata": {},
   "source": [
    "---"
   ]
  },
  {
   "cell_type": "markdown",
   "metadata": {},
   "source": [
    "## 4. CONCLUSIÓ"
   ]
  }
 ],
 "metadata": {
  "kernelspec": {
   "display_name": "Python 3",
   "language": "python",
   "name": "python3"
  },
  "language_info": {
   "codemirror_mode": {
    "name": "ipython",
    "version": 3
   },
   "file_extension": ".py",
   "mimetype": "text/x-python",
   "name": "python",
   "nbconvert_exporter": "python",
   "pygments_lexer": "ipython3",
   "version": "3.12.1"
  }
 },
 "nbformat": 4,
 "nbformat_minor": 2
}
